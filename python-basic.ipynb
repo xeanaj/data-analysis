{
  "cells": [
    {
     "cell_type" : "code",
      "execution_count": 1,
      "source" : [
                  "import numpy as np"
                 ]
    }
    
    ]
}
